{
 "cells": [
  {
   "cell_type": "markdown",
   "metadata": {},
   "source": [
    "### Dir to Pandas DataFrame\n",
    "Running This Notebook will produce a Pandas DataFrame containing each path of each image in the database along with the breed and annotation of the image."
   ]
  },
  {
   "cell_type": "code",
   "execution_count": null,
   "metadata": {},
   "outputs": [],
   "source": [
    "import numpy as np\n",
    "import pandas as pd\n",
    "\n",
    "import os\n",
    "import shutil\n",
    "import pathlib\n",
    "import sys"
   ]
  },
  {
   "cell_type": "code",
   "execution_count": null,
   "metadata": {},
   "outputs": [],
   "source": [
    "# go to parent directory\n",
    "os.chdir(\"..\")\n",
    "import paths\n",
    "\n",
    "REPO_DIR = paths.get_repo_path()\n",
    "ROOT_DIR = REPO_DIR / \"models\"\n",
    "DATA_BASE_PATH = paths.get_data_path() / \"stanford-dogs-dataset\"\n",
    "IMAGES_PATH = DATA_BASE_PATH / \"images/Images\"\n",
    "ANNOTATIONS_PATH = DATA_BASE_PATH / \"annotations/Annotation\"\n",
    "\n",
    "RANDOM_SEED = 42\n",
    "\n",
    "# set path to repo_dir\n",
    "os.chdir(REPO_DIR)"
   ]
  },
  {
   "cell_type": "code",
   "execution_count": null,
   "metadata": {},
   "outputs": [],
   "source": [
    "breed_dir_name = [\n",
    "        breed \n",
    "        for breed in sorted(os.listdir(IMAGES_PATH))\n",
    "        if not breed.startswith(\".\") and os.path.isdir(IMAGES_PATH / breed)\n",
    "]\n",
    "\n",
    "len(breed_dir_name)"
   ]
  },
  {
   "cell_type": "code",
   "execution_count": null,
   "metadata": {},
   "outputs": [],
   "source": [
    "dogs_df = pd.DataFrame(columns=[\"breed\", \"image_path\", \"annotation_path\"])\n",
    "\n",
    "for breed_dir in breed_dir_name:\n",
    "    breed_name = \" \".join(breed_dir.replace(\"_\", \"-\").split(\"-\")[1:]).title()\n",
    "    \n",
    "    breed_images_dir_path = IMAGES_PATH / breed_dir\n",
    "    breed_annotations_dir_path = ANNOTATIONS_PATH / breed_dir\n",
    "    \n",
    "    breed_images_name = [\n",
    "            image \n",
    "            for image in sorted(os.listdir(breed_images_dir_path)) \n",
    "            if not image.startswith(\".\") and image.endswith((\".jpg\", \".jpeg\", \".png\"))\n",
    "    ]\n",
    "    breed_annotations_name = [\n",
    "            image.split(\".\")[0]\n",
    "            for image in breed_images_name\n",
    "    ]\n",
    "    \n",
    "    breed_images_path = [\n",
    "            breed_images_dir_path / image \n",
    "            for image in breed_images_name\n",
    "            if os.path.isfile(breed_images_dir_path / image)\n",
    "    ]\n",
    "    breed_annotations_path = [\n",
    "            breed_annotations_dir_path / annotation \n",
    "            for annotation in breed_annotations_name\n",
    "            if os.path.isfile(breed_annotations_dir_path / annotation)\n",
    "    ]\n",
    "    \n",
    "    dogs_df = pd.concat([dogs_df, pd.DataFrame({\"breed\": breed_name, \"image_path\": breed_images_path, \"annotation_path\": breed_annotations_path})])\n",
    "    \n",
    "    \n",
    "dogs_df"
   ]
  },
  {
   "cell_type": "code",
   "execution_count": null,
   "metadata": {},
   "outputs": [],
   "source": [
    "dogs_df_path = DATA_BASE_PATH / \"dogs_df.csv\"\n",
    "dogs_df = dogs_df.sort_values(by=[\"breed\", \"image_path\"])\n",
    "dogs_df.to_csv(dogs_df_path, index=False)\n",
    "\n",
    "dogs_df = pd.read_csv(dogs_df_path)\n",
    "dogs_df"
   ]
  },
  {
   "cell_type": "code",
   "execution_count": null,
   "metadata": {},
   "outputs": [],
   "source": [
    "import json\n",
    "\n",
    "breeds = dogs_df[\"breed\"].unique()\n",
    "breeds_dict = {i: breed for i, breed in enumerate(breeds)}\n",
    "\n",
    "with open(ROOT_DIR / \"breeds_dict.json\", \"w\") as f:\n",
    "    json.dump(breeds_dict, f, indent=2)"
   ]
  },
  {
   "cell_type": "code",
   "execution_count": null,
   "metadata": {},
   "outputs": [],
   "source": []
  }
 ],
 "metadata": {
  "kernelspec": {
   "display_name": "Python 3.9.12 ('env_tf')",
   "language": "python",
   "name": "python3"
  },
  "language_info": {
   "codemirror_mode": {
    "name": "ipython",
    "version": 3
   },
   "file_extension": ".py",
   "mimetype": "text/x-python",
   "name": "python",
   "nbconvert_exporter": "python",
   "pygments_lexer": "ipython3",
   "version": "3.9.12"
  },
  "orig_nbformat": 4,
  "vscode": {
   "interpreter": {
    "hash": "d5a1ae6899980971a482c9ba4350aa5d29248927543f8d54686f28fa951765f0"
   }
  }
 },
 "nbformat": 4,
 "nbformat_minor": 2
}
